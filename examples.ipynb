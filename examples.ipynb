{
 "cells": [
  {
   "metadata": {},
   "cell_type": "markdown",
   "source": "# Apache Spark SQL",
   "id": "89252fd48228dcf0"
  },
  {
   "metadata": {
    "jupyter": {
     "is_executing": true
    },
    "ExecuteTime": {
     "start_time": "2025-05-28T23:08:34.789765Z"
    }
   },
   "cell_type": "code",
   "source": [
    "from pyspark.sql import SparkSession\n",
    "\n",
    "spark = SparkSession.builder.appName(\"ChurnPrediction\").getOrCreate()\n",
    "df = spark.read.csv(\"ChurnModelling.csv\", header=True, inferSchema=True)"
   ],
   "id": "ae189fcaad47ebc8",
   "outputs": [],
   "execution_count": null
  },
  {
   "metadata": {},
   "cell_type": "code",
   "outputs": [],
   "execution_count": 54,
   "source": "df.createOrReplaceTempView(\"clients\")",
   "id": "58a264c9b83cd405"
  },
  {
   "metadata": {},
   "cell_type": "code",
   "outputs": [
    {
     "name": "stdout",
     "output_type": "stream",
     "text": [
      "+---+---------+---------------+\n",
      "|Age|  Balance|EstimatedSalary|\n",
      "+---+---------+---------------+\n",
      "| 58|      0.0|       32790.02|\n",
      "| 56|209767.31|      150694.42|\n",
      "| 52|109922.61|       96823.32|\n",
      "| 51| 123372.3|      115429.32|\n",
      "| 59|126224.87|        4423.63|\n",
      "| 55|      0.0|       13288.46|\n",
      "| 58|110597.76|      160122.66|\n",
      "| 55|119618.42|       29861.13|\n",
      "| 59|      0.0|      160849.43|\n",
      "| 54|138547.97|       70196.23|\n",
      "| 76|128410.71|      181718.73|\n",
      "| 71|142550.25|      122506.78|\n",
      "| 59|122781.51|      140166.95|\n",
      "| 64|      0.0|       13181.37|\n",
      "| 51|      0.0|       69101.23|\n",
      "| 51|117808.74|       67311.12|\n",
      "| 54|126113.28|      112777.38|\n",
      "| 62| 98854.34|       86920.97|\n",
      "| 52|107304.39|       28806.32|\n",
      "| 61|157201.48|       50368.63|\n",
      "+---+---------+---------------+\n",
      "only showing top 20 rows\n",
      "\n"
     ]
    }
   ],
   "execution_count": 55,
   "source": [
    "spark.sql(\"\"\"\n",
    "    SELECT Age, Balance, EstimatedSalary\n",
    "    FROM clients\n",
    "    WHERE Age > 50\n",
    "\"\"\").show()"
   ],
   "id": "3f26351870d101d4"
  },
  {
   "metadata": {},
   "cell_type": "code",
   "outputs": [
    {
     "name": "stdout",
     "output_type": "stream",
     "text": [
      "+---------+------------------+------------+\n",
      "|Geography|        AvgBalance|TotalClients|\n",
      "+---------+------------------+------------+\n",
      "|  Germany|119730.11613391797|        2509|\n",
      "|   France| 62092.63651575591|        5014|\n",
      "|    Spain| 61818.14776342345|        2477|\n",
      "+---------+------------------+------------+\n",
      "\n"
     ]
    }
   ],
   "execution_count": 56,
   "source": [
    "spark.sql(\"\"\"\n",
    "    SELECT Geography, AVG(Balance) AS AvgBalance, COUNT(*) AS TotalClients\n",
    "    FROM clients\n",
    "    GROUP BY Geography\n",
    "\"\"\").show()\n"
   ],
   "id": "1f437bc95e768063"
  },
  {
   "metadata": {},
   "cell_type": "code",
   "outputs": [
    {
     "name": "stdout",
     "output_type": "stream",
     "text": [
      "+---+---------------+--------------------+\n",
      "|Age|EstimatedSalary|BalanceToSalaryRatio|\n",
      "+---+---------------+--------------------+\n",
      "| 24|      167256.35|   0.608804755067565|\n",
      "| 58|       32790.02|                 0.0|\n",
      "| 56|      150694.42|  1.3919952577191794|\n",
      "| 36|       47271.61|  2.7446874627823594|\n",
      "| 33|       43932.54|  3.9813026676202283|\n",
      "| 52|       96823.32|  1.1352789257905451|\n",
      "| 31|      179453.66|                 0.0|\n",
      "| 48|      151310.16|   1.113747128764329|\n",
      "| 51|      115429.32|   1.068803239911316|\n",
      "| 36|      161668.15|                 0.0|\n",
      "| 59|        4423.63|  28.527779723954318|\n",
      "| 41|      131710.59|  0.7214308171361382|\n",
      "| 39|       32615.21|                 0.0|\n",
      "| 36|      196142.26|  0.3726259061871409|\n",
      "| 46|      162643.15|  0.7256458962710924|\n",
      "| 25|       38772.82|  2.0514767438441712|\n",
      "| 39|        55556.3|   2.190608974878189|\n",
      "| 33|       42171.13|                 0.0|\n",
      "| 45|       10908.33|                 0.0|\n",
      "| 55|       13288.46|                 0.0|\n",
      "+---+---------------+--------------------+\n",
      "only showing top 20 rows\n",
      "\n"
     ]
    }
   ],
   "execution_count": 60,
   "source": [
    "spark.sql(\"\"\"\n",
    "    SELECT Age, EstimatedSalary,\n",
    "           Balance / (EstimatedSalary + 1) AS BalanceToSalaryRatio\n",
    "    FROM clients\n",
    "\"\"\").show()\n"
   ],
   "id": "f6a0dbe65e6f22b"
  },
  {
   "metadata": {},
   "cell_type": "markdown",
   "source": "# 10 Most Common Classes [Core Classes, Spark Session, Configuration, Input/Output, DataFrame, Column, Data Types, Functions, Grouping, Catalog, UDF, UDTF]",
   "id": "efdda578cd49f3dd"
  },
  {
   "metadata": {
    "ExecuteTime": {
     "end_time": "2025-05-28T23:01:53.655777Z",
     "start_time": "2025-05-28T23:01:53.595288Z"
    }
   },
   "cell_type": "code",
   "source": [
    "from pyspark.sql import Row\n",
    "from pyspark.sql.types import StructType, StructField, StringType, IntegerType\n",
    "\n",
    "schema = StructType([\n",
    "    StructField(\"Name\", StringType(), True),\n",
    "    StructField(\"Age\", IntegerType(), True)\n",
    "])\n",
    "\n",
    "data = [Row(\"Alice\", 30), Row(\"Bob\", 45)]\n",
    "df = spark.createDataFrame(data, schema=schema)\n",
    "df"
   ],
   "id": "255a4f2b6011f12a",
   "outputs": [
    {
     "ename": "NameError",
     "evalue": "name 'spark' is not defined",
     "output_type": "error",
     "traceback": [
      "\u001B[31m---------------------------------------------------------------------------\u001B[39m",
      "\u001B[31mNameError\u001B[39m                                 Traceback (most recent call last)",
      "\u001B[36mCell\u001B[39m\u001B[36m \u001B[39m\u001B[32mIn[2]\u001B[39m\u001B[32m, line 10\u001B[39m\n\u001B[32m      4\u001B[39m schema = StructType([\n\u001B[32m      5\u001B[39m     StructField(\u001B[33m\"\u001B[39m\u001B[33mName\u001B[39m\u001B[33m\"\u001B[39m, StringType(), \u001B[38;5;28;01mTrue\u001B[39;00m),\n\u001B[32m      6\u001B[39m     StructField(\u001B[33m\"\u001B[39m\u001B[33mAge\u001B[39m\u001B[33m\"\u001B[39m, IntegerType(), \u001B[38;5;28;01mTrue\u001B[39;00m)\n\u001B[32m      7\u001B[39m ])\n\u001B[32m      9\u001B[39m data = [Row(\u001B[33m\"\u001B[39m\u001B[33mAlice\u001B[39m\u001B[33m\"\u001B[39m, \u001B[32m30\u001B[39m), Row(\u001B[33m\"\u001B[39m\u001B[33mBob\u001B[39m\u001B[33m\"\u001B[39m, \u001B[32m45\u001B[39m)]\n\u001B[32m---> \u001B[39m\u001B[32m10\u001B[39m df = \u001B[43mspark\u001B[49m.createDataFrame(data, schema=schema)\n\u001B[32m     11\u001B[39m df\n",
      "\u001B[31mNameError\u001B[39m: name 'spark' is not defined"
     ]
    }
   ],
   "execution_count": 2
  },
  {
   "metadata": {},
   "cell_type": "code",
   "source": [
    "from pyspark.sql import SparkSession\n",
    "\n",
    "spark = SparkSession.builder \\\n",
    "    .appName(\"ChurnPrediction\") \\\n",
    "    .getOrCreate()"
   ],
   "id": "41986cf7accf06a",
   "outputs": [],
   "execution_count": null
  },
  {
   "metadata": {
    "jupyter": {
     "is_executing": true
    },
    "ExecuteTime": {
     "start_time": "2025-05-28T23:02:00.033207Z"
    }
   },
   "cell_type": "code",
   "source": [
    "from pyspark import SparkConf, SparkContext\n",
    "\n",
    "conf = SparkConf().setAppName(\"AppName\").setMaster(\"local[2]\")\n",
    "sc = SparkContext(conf=conf)"
   ],
   "id": "bef1827a304b07b1",
   "outputs": [],
   "execution_count": null
  },
  {
   "metadata": {},
   "cell_type": "code",
   "source": [
    "# Citire CSV\n",
    "df = spark.read.option(\"header\", \"true\").csv(\"churn.csv\")\n",
    "\n",
    "# Scriere în Parquet\n",
    "df.write.mode(\"overwrite\").parquet(\"output/churn_data\")"
   ],
   "id": "36bae8a816d6f131",
   "outputs": [],
   "execution_count": null
  },
  {
   "metadata": {},
   "cell_type": "code",
   "source": "df.select(\"Age\", \"Balance\").filter(df[\"Age\"] > 50).show(5)",
   "id": "aa8662ba1c74d0a7",
   "outputs": [],
   "execution_count": null
  },
  {
   "metadata": {},
   "cell_type": "code",
   "source": [
    "from pyspark.sql.functions import col, when\n",
    "\n",
    "df = df.withColumn(\"IsSenior\", when(col(\"Age\") > 60, 1).otherwise(0))\n",
    "df.show(5)"
   ],
   "id": "96dc1a4215ccda11",
   "outputs": [],
   "execution_count": null
  },
  {
   "metadata": {},
   "cell_type": "code",
   "source": [
    "from pyspark.sql.types import DoubleType\n",
    "\n",
    "df = df.withColumn(\"Balance\", col(\"Balance\").cast(DoubleType()))\n",
    "df.show(5)"
   ],
   "id": "eb5f484b0f4f08f4",
   "outputs": [],
   "execution_count": null
  },
  {
   "metadata": {},
   "cell_type": "code",
   "source": [
    "from pyspark.sql.functions import avg, count\n",
    "\n",
    "df.groupBy(\"Geography\").agg(\n",
    "    avg(\"Balance\").alias(\"AvgBalance\"),\n",
    "    count(\"*\").alias(\"NrClienti\")\n",
    ").show()"
   ],
   "id": "255c0bd827ed86b4",
   "outputs": [],
   "execution_count": null
  },
  {
   "metadata": {},
   "cell_type": "code",
   "source": "df.groupBy(\"Gender\").count().show()\n",
   "id": "641ecb3f408e3a01",
   "outputs": [],
   "execution_count": null
  },
  {
   "metadata": {},
   "cell_type": "code",
   "source": [
    "df.createOrReplaceTempView(\"clients\")\n",
    "spark.catalog.listTables()"
   ],
   "id": "470abf45c95cdc5",
   "outputs": [],
   "execution_count": null
  },
  {
   "metadata": {},
   "cell_type": "code",
   "source": [
    "from pyspark.sql.functions import udf\n",
    "from pyspark.sql.types import IntegerType\n",
    "\n",
    "\n",
    "def age_group(age): return 1 if age > 60 else 0\n",
    "\n",
    "\n",
    "age_udf = udf(age_group, IntegerType())\n",
    "df = df.withColumn(\"AgeGroup\", age_udf(col(\"Age\")))\n",
    "df.show()"
   ],
   "id": "d46739ee59a52769",
   "outputs": [],
   "execution_count": null
  },
  {
   "metadata": {},
   "cell_type": "code",
   "source": [
    "from pyspark.sql.functions import explode, split\n",
    "\n",
    "df = df.withColumn(\"Tags\", explode(split(col(\"Interests\"), \",\")))\n",
    "df.show()"
   ],
   "id": "29dd74d1c6e754d9",
   "outputs": [],
   "execution_count": null
  },
  {
   "metadata": {},
   "cell_type": "markdown",
   "source": "# 5 Most Common Pandas Api on Apache Spark",
   "id": "8826239f140fccf8"
  },
  {
   "metadata": {},
   "cell_type": "code",
   "source": [
    "import pyspark.pandas as ps\n",
    "\n",
    "df = ps.read_csv(\"churn.csv\")\n",
    "df.show(5)"
   ],
   "id": "7107c9cac2582462",
   "outputs": [],
   "execution_count": null
  },
  {
   "metadata": {},
   "cell_type": "code",
   "source": [
    "small_df = df.head(100)  # eșantion\n",
    "pandas_df = small_df.to_pandas()\n",
    "type(pandas_df)"
   ],
   "id": "8b7325e99f26e959",
   "outputs": [],
   "execution_count": null
  },
  {
   "metadata": {},
   "cell_type": "code",
   "source": [
    "avg_balance = df.groupby(\"Geography\")[\"Balance\"].mean()\n",
    "avg_balance.show()"
   ],
   "id": "61ab04fed6bc37a6",
   "outputs": [],
   "execution_count": null
  },
  {
   "metadata": {},
   "cell_type": "code",
   "source": [
    "df[\"RiskTag\"] = df[\"CreditScore\"].apply(lambda x: \"High\" if x < 500 else \"Low\")\n",
    "df.show(5)"
   ],
   "id": "ff781ee7eae3c958",
   "outputs": [],
   "execution_count": null
  },
  {
   "metadata": {},
   "cell_type": "code",
   "source": "merged_df = df.merge(small_df, on=\"CustomerID\", how=\"left\")",
   "id": "96d17fcbf525bea",
   "outputs": [],
   "execution_count": null
  },
  {
   "metadata": {},
   "cell_type": "markdown",
   "source": "# 5 Most Common Api for Apache Spark Core ",
   "id": "6732aec85403d669"
  },
  {
   "metadata": {},
   "cell_type": "code",
   "source": [
    "from pyspark import SparkContext\n",
    "\n",
    "sc = SparkContext(appName=\"ChurnAnalysis\")"
   ],
   "id": "4fd25b407483a2e6",
   "outputs": [],
   "execution_count": null
  },
  {
   "metadata": {},
   "cell_type": "code",
   "source": "rdd = sc.parallelize([1, 2, 3, 4])\n",
   "id": "541b574e2c6d54cd",
   "outputs": [],
   "execution_count": null
  },
  {
   "metadata": {},
   "cell_type": "code",
   "source": [
    "mapped_rdd = rdd.map(lambda x: x * 2)\n",
    "filtered_rdd = rdd.filter(lambda x: x > 2)\n"
   ],
   "id": "bea2b0e24c949118",
   "outputs": [],
   "execution_count": null
  },
  {
   "metadata": {},
   "cell_type": "code",
   "source": [
    "results = rdd.collect()\n",
    "subset = rdd.take(3)\n"
   ],
   "id": "3afc3ed279b0b39",
   "outputs": [],
   "execution_count": null
  },
  {
   "metadata": {},
   "cell_type": "code",
   "source": [
    "filtered_rdd.cache()\n",
    "\n"
   ],
   "id": "54f06ad669704f68",
   "outputs": [],
   "execution_count": null
  },
  {
   "metadata": {},
   "cell_type": "markdown",
   "source": "# SparkSession – Cum se creează o sesiune SparkSession. Particularități si Exemple",
   "id": "ae4c378abf74587"
  },
  {
   "metadata": {},
   "cell_type": "code",
   "source": "from pyspark.sql import SparkSession\n",
   "id": "dc541ada438f86d8",
   "outputs": [],
   "execution_count": null
  },
  {
   "metadata": {},
   "cell_type": "code",
   "source": [
    "spark = SparkSession.builder \\\n",
    "    .appName(\"ChurnPrediction\") \\\n",
    "    .master(\"local[*]\") \\\n",
    "    .getOrCreate()\n"
   ],
   "id": "def3dfe6946dc087",
   "outputs": [],
   "execution_count": null
  },
  {
   "metadata": {},
   "cell_type": "code",
   "source": "print(spark.version)\n",
   "id": "63a24105c8b718e9",
   "outputs": [],
   "execution_count": null
  },
  {
   "metadata": {},
   "cell_type": "markdown",
   "source": "# 4.2 SparkContext – Cum se creează o sesiune SparkContext (pe pași). Particularități si Exemple",
   "id": "13143372bea74902"
  },
  {
   "metadata": {},
   "cell_type": "code",
   "source": "from pyspark import SparkContext, SparkConf",
   "id": "77a6367b7939ceae",
   "outputs": [],
   "execution_count": null
  },
  {
   "metadata": {},
   "cell_type": "code",
   "source": "conf = SparkConf().setAppName(\"ChurnApp\").setMaster(\"local[*]\")",
   "id": "59644ee5f2f7cf91",
   "outputs": [],
   "execution_count": null
  },
  {
   "metadata": {},
   "cell_type": "code",
   "source": "sc = SparkContext(conf=conf)",
   "id": "90be159abe30c97b",
   "outputs": [],
   "execution_count": null
  },
  {
   "metadata": {},
   "cell_type": "code",
   "source": [
    "data = [10, 20, 30, 40, 50]\n",
    "rdd = sc.parallelize(data)\n",
    "print(rdd.collect())\n"
   ],
   "id": "1ff71fe3ce767619",
   "outputs": [],
   "execution_count": null
  },
  {
   "metadata": {},
   "cell_type": "code",
   "source": [
    "squared = rdd.map(lambda x: x * x)\n",
    "print(squared.collect())  # Output: [100, 400, 900, 1600, 2500]\n"
   ],
   "id": "4174193de6c0dde2",
   "outputs": [],
   "execution_count": null
  },
  {
   "metadata": {},
   "cell_type": "code",
   "source": [
    "total = rdd.reduce(lambda a, b: a + b)\n",
    "print(\"Suma totală:\", total)\n"
   ],
   "id": "e48776d42f297776",
   "outputs": [],
   "execution_count": null
  },
  {
   "metadata": {},
   "cell_type": "markdown",
   "source": "# 4.3 SparkSubmit – Cum se creează o sesiune SparkSubmit (pe pași). Particularități si Exemple",
   "id": "d97a9b15af8dead7"
  },
  {
   "metadata": {},
   "cell_type": "code",
   "source": [
    "# churn_prediction.py\n",
    "from pyspark.sql import SparkSession\n",
    "\n",
    "spark = SparkSession.builder.appName(\"ChurnPrediction\").getOrCreate()\n",
    "df = spark.read.option(\"header\", True).csv(\"ChurnModelling.csv\")\n",
    "df.groupBy(\"Geography\").count().show()\n",
    "spark.stop()\n"
   ],
   "id": "94d750059a2dc12e",
   "outputs": [],
   "execution_count": null
  }
 ],
 "metadata": {
  "kernelspec": {
   "display_name": "Python 3",
   "language": "python",
   "name": "python3"
  },
  "language_info": {
   "codemirror_mode": {
    "name": "ipython",
    "version": 2
   },
   "file_extension": ".py",
   "mimetype": "text/x-python",
   "name": "python",
   "nbconvert_exporter": "python",
   "pygments_lexer": "ipython2",
   "version": "2.7.6"
  }
 },
 "nbformat": 4,
 "nbformat_minor": 5
}
