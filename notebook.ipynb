{
 "cells": [
  {
   "metadata": {},
   "cell_type": "markdown",
   "source": "# Analysis",
   "id": "cfbb53e548871d7f"
  },
  {
   "cell_type": "code",
   "id": "initial_id",
   "metadata": {
    "collapsed": true,
    "ExecuteTime": {
     "end_time": "2025-06-01T11:24:51.562744Z",
     "start_time": "2025-06-01T11:24:46.826074Z"
    }
   },
   "source": [
    "from pyspark.sql import SparkSession\n",
    "\n",
    "spark = SparkSession.builder.appName(\"ChurnPrediction\").getOrCreate()"
   ],
   "outputs": [],
   "execution_count": 1
  },
  {
   "metadata": {
    "ExecuteTime": {
     "end_time": "2025-06-01T11:24:56.101433Z",
     "start_time": "2025-06-01T11:24:51.564276Z"
    }
   },
   "cell_type": "code",
   "source": [
    "# Încărcarea datelor\n",
    "df = spark.read.csv(\"ChurnModelling.csv\", header=True, inferSchema=True)\n",
    "df.show()"
   ],
   "id": "751b4d0bbaaba4d1",
   "outputs": [
    {
     "name": "stdout",
     "output_type": "stream",
     "text": [
      "+---------+----------+---------+-----------+---------+------+---+------+---------+-------------+---------+--------------+---------------+------+\n",
      "|RowNumber|CustomerId|  Surname|CreditScore|Geography|Gender|Age|Tenure|  Balance|NumOfProducts|HasCrCard|IsActiveMember|EstimatedSalary|Exited|\n",
      "+---------+----------+---------+-----------+---------+------+---+------+---------+-------------+---------+--------------+---------------+------+\n",
      "|        1|  15634602| Hargrave|        619|   France|Female| 42|     2|      0.0|            1|        1|             1|      101348.88|     1|\n",
      "|        2|  15647311|     Hill|        608|    Spain|Female| 41|     1| 83807.86|            1|        0|             1|      112542.58|     0|\n",
      "|        3|  15619304|     Onio|        502|   France|Female| 42|     8| 159660.8|            3|        1|             0|      113931.57|     1|\n",
      "|        4|  15701354|     Boni|        699|   France|Female| 39|     1|      0.0|            2|        0|             0|       93826.63|     0|\n",
      "|        5|  15737888| Mitchell|        850|    Spain|Female| 43|     2|125510.82|            1|        1|             1|        79084.1|     0|\n",
      "|        6|  15574012|      Chu|        645|    Spain|  Male| 44|     8|113755.78|            2|        1|             0|      149756.71|     1|\n",
      "|        7|  15592531| Bartlett|        822|   France|  Male| 50|     7|      0.0|            2|        1|             1|        10062.8|     0|\n",
      "|        8|  15656148|   Obinna|        376|  Germany|Female| 29|     4|115046.74|            4|        1|             0|      119346.88|     1|\n",
      "|        9|  15792365|       He|        501|   France|  Male| 44|     4|142051.07|            2|        0|             1|        74940.5|     0|\n",
      "|       10|  15592389|       H?|        684|   France|  Male| 27|     2|134603.88|            1|        1|             1|       71725.73|     0|\n",
      "|       11|  15767821|   Bearce|        528|   France|  Male| 31|     6|102016.72|            2|        0|             0|       80181.12|     0|\n",
      "|       12|  15737173|  Andrews|        497|    Spain|  Male| 24|     3|      0.0|            2|        1|             0|       76390.01|     0|\n",
      "|       13|  15632264|      Kay|        476|   France|Female| 34|    10|      0.0|            2|        1|             0|       26260.98|     0|\n",
      "|       14|  15691483|     Chin|        549|   France|Female| 25|     5|      0.0|            2|        0|             0|      190857.79|     0|\n",
      "|       15|  15600882|    Scott|        635|    Spain|Female| 35|     7|      0.0|            2|        1|             1|       65951.65|     0|\n",
      "|       16|  15643966|  Goforth|        616|  Germany|  Male| 45|     3|143129.41|            2|        0|             1|       64327.26|     0|\n",
      "|       17|  15737452|    Romeo|        653|  Germany|  Male| 58|     1|132602.88|            1|        1|             0|        5097.67|     1|\n",
      "|       18|  15788218|Henderson|        549|    Spain|Female| 24|     9|      0.0|            2|        1|             1|       14406.41|     0|\n",
      "|       19|  15661507|  Muldrow|        587|    Spain|  Male| 45|     6|      0.0|            1|        0|             0|      158684.81|     0|\n",
      "|       20|  15568982|      Hao|        726|   France|Female| 24|     6|      0.0|            2|        1|             1|       54724.03|     0|\n",
      "+---------+----------+---------+-----------+---------+------+---+------+---------+-------------+---------+--------------+---------------+------+\n",
      "only showing top 20 rows\n",
      "\n"
     ]
    }
   ],
   "execution_count": 2
  },
  {
   "metadata": {
    "ExecuteTime": {
     "end_time": "2025-06-01T11:25:26.723625Z",
     "start_time": "2025-06-01T11:25:26.707361Z"
    }
   },
   "cell_type": "code",
   "source": "df.printSchema()",
   "id": "e161a2a0335619f7",
   "outputs": [
    {
     "name": "stdout",
     "output_type": "stream",
     "text": [
      "root\n",
      " |-- RowNumber: integer (nullable = true)\n",
      " |-- CustomerId: integer (nullable = true)\n",
      " |-- Surname: string (nullable = true)\n",
      " |-- CreditScore: integer (nullable = true)\n",
      " |-- Geography: string (nullable = true)\n",
      " |-- Gender: string (nullable = true)\n",
      " |-- Age: integer (nullable = true)\n",
      " |-- Tenure: integer (nullable = true)\n",
      " |-- Balance: double (nullable = true)\n",
      " |-- NumOfProducts: integer (nullable = true)\n",
      " |-- HasCrCard: integer (nullable = true)\n",
      " |-- IsActiveMember: integer (nullable = true)\n",
      " |-- EstimatedSalary: double (nullable = true)\n",
      " |-- Exited: integer (nullable = true)\n",
      "\n"
     ]
    }
   ],
   "execution_count": 3
  },
  {
   "metadata": {
    "ExecuteTime": {
     "end_time": "2025-06-01T11:25:27.149876Z",
     "start_time": "2025-06-01T11:25:27.136353Z"
    }
   },
   "cell_type": "code",
   "source": [
    "# Eliminarea valorilor duplicate\n",
    "df = df.dropDuplicates()"
   ],
   "id": "e8ef92233c3ed968",
   "outputs": [],
   "execution_count": 4
  },
  {
   "metadata": {
    "ExecuteTime": {
     "end_time": "2025-06-01T11:25:29.939339Z",
     "start_time": "2025-06-01T11:25:27.565463Z"
    }
   },
   "cell_type": "code",
   "source": [
    "from pyspark.sql.functions import col, when, isnan, count\n",
    "\n",
    "# Verificarea valorilor lipsă\n",
    "df.select([count(when(col(c).isNull() | isnan(c), c)).alias(c) for c in df.columns]).show()"
   ],
   "id": "e8844f5502bf3391",
   "outputs": [
    {
     "name": "stdout",
     "output_type": "stream",
     "text": [
      "+---------+----------+-------+-----------+---------+------+---+------+-------+-------------+---------+--------------+---------------+------+\n",
      "|RowNumber|CustomerId|Surname|CreditScore|Geography|Gender|Age|Tenure|Balance|NumOfProducts|HasCrCard|IsActiveMember|EstimatedSalary|Exited|\n",
      "+---------+----------+-------+-----------+---------+------+---+------+-------+-------------+---------+--------------+---------------+------+\n",
      "|        0|         0|      0|          0|        0|     0|  0|     0|      0|            0|        0|             0|              0|     0|\n",
      "+---------+----------+-------+-----------+---------+------+---+------+-------+-------------+---------+--------------+---------------+------+\n",
      "\n"
     ]
    }
   ],
   "execution_count": 5
  },
  {
   "metadata": {
    "ExecuteTime": {
     "end_time": "2025-06-01T11:25:30.734532Z",
     "start_time": "2025-06-01T11:25:29.941351Z"
    }
   },
   "cell_type": "code",
   "source": [
    "# Count of Exited values\n",
    "df.groupBy(\"Exited\").count().show()"
   ],
   "id": "9acf818f87feea77",
   "outputs": [
    {
     "name": "stdout",
     "output_type": "stream",
     "text": [
      "+------+-----+\n",
      "|Exited|count|\n",
      "+------+-----+\n",
      "|     1| 2037|\n",
      "|     0| 7963|\n",
      "+------+-----+\n",
      "\n"
     ]
    }
   ],
   "execution_count": 6
  },
  {
   "metadata": {
    "ExecuteTime": {
     "end_time": "2025-06-01T11:25:35.130007Z",
     "start_time": "2025-06-01T11:25:30.736544Z"
    }
   },
   "cell_type": "code",
   "source": [
    "from pyspark.ml.stat import Correlation\n",
    "from pyspark.ml.feature import VectorAssembler\n",
    "import pandas as pd\n",
    "import seaborn as sns\n",
    "import matplotlib.pyplot as plt\n",
    "\n",
    "# Vectorizarea coloanelor numerice\n",
    "num_cols = [\"CreditScore\", \"Age\", \"Tenure\", \"Balance\", \"NumOfProducts\", \"EstimatedSalary\"]\n",
    "vec_assembler = VectorAssembler(inputCols=num_cols, outputCol=\"features\")\n",
    "df_vec = vec_assembler.transform(df)\n",
    "\n",
    "# Calculul corelației Pearson\n",
    "cor_matrix = Correlation.corr(df_vec, \"features\", method=\"pearson\").head()[0]\n",
    "\n",
    "# Conversia matricei DenseMatrix într-un array numpy\n",
    "corr_array = cor_matrix.toArray()\n",
    "\n",
    "# Crearea unui DataFrame Pandas frumos cu etichete\n",
    "corr_df = pd.DataFrame(corr_array, index=num_cols, columns=num_cols)\n",
    "\n",
    "# Vizualizare\n",
    "plt.figure(figsize=(10, 8))\n",
    "sns.heatmap(corr_df, annot=True, cmap=\"coolwarm\", fmt=\".2f\")\n",
    "plt.title(\"Matricea de corelație (Pearson)\")\n",
    "plt.tight_layout()\n",
    "plt.show()"
   ],
   "id": "368e81d2ecceb042",
   "outputs": [
    {
     "data": {
      "text/plain": [
       "<Figure size 1000x800 with 2 Axes>"
      ],
      "image/png": "[encoded data removed]"
     },
     "metadata": {},
     "output_type": "display_data"
    }
   ],
   "execution_count": 7
  },
  {
   "metadata": {
    "ExecuteTime": {
     "end_time": "2025-06-01T11:25:37.309167Z",
     "start_time": "2025-06-01T11:25:35.135484Z"
    }
   },
   "cell_type": "code",
   "source": [
    "from pyspark.ml.feature import (\n",
    "    StringIndexer, OneHotEncoder, StandardScaler\n",
    ")\n",
    "\n",
    "# Codificare variabile categorice\n",
    "indexer = StringIndexer(inputCols=[\"Geography\", \"Gender\"], outputCols=[\"GeographyIndex\", \"GenderIndex\"])\n",
    "df_indexed = indexer.fit(df).transform(df)\n",
    "\n",
    "encoder = OneHotEncoder(inputCols=[\"GeographyIndex\", \"GenderIndex\"],\n",
    "                        outputCols=[\"GeographyVec\", \"GenderVec\"])\n",
    "df_encoded = encoder.fit(df_indexed).transform(df_indexed)\n",
    "df_encoded.show()"
   ],
   "id": "70186e77a807945d",
   "outputs": [
    {
     "name": "stdout",
     "output_type": "stream",
     "text": [
      "+---------+----------+-----------------+-----------+---------+------+---+------+---------+-------------+---------+--------------+---------------+------+--------------+-----------+-------------+-------------+\n",
      "|RowNumber|CustomerId|          Surname|CreditScore|Geography|Gender|Age|Tenure|  Balance|NumOfProducts|HasCrCard|IsActiveMember|EstimatedSalary|Exited|GeographyIndex|GenderIndex| GeographyVec|    GenderVec|\n",
      "+---------+----------+-----------------+-----------+---------+------+---+------+---------+-------------+---------+--------------+---------------+------+--------------+-----------+-------------+-------------+\n",
      "|      130|  15591607|           Fernie|        770|   France|  Male| 24|     9|101827.07|            1|        1|             0|      167256.35|     0|           0.0|        0.0|(2,[0],[1.0])|(1,[0],[1.0])|\n",
      "|      360|  15592386|         Campbell|        520|   France|  Male| 58|     3|      0.0|            2|        0|             1|       32790.02|     0|           0.0|        0.0|(2,[0],[1.0])|(1,[0],[1.0])|\n",
      "|      721|  15721658|          Fleming|        672|    Spain|Female| 56|     2|209767.31|            2|        1|             1|      150694.42|     1|           2.0|        1.0|    (2,[],[])|    (1,[],[])|\n",
      "|      771|  15584091|            Pitts|        742|  Germany|Female| 36|     2|129748.54|            2|        0|             0|       47271.61|     1|           1.0|        1.0|(2,[1],[1.0])|    (1,[],[])|\n",
      "|      907|  15814275| Zikoranachidimma|        685|   France|  Male| 33|     6|174912.72|            1|        1|             1|       43932.54|     0|           0.0|        0.0|(2,[0],[1.0])|(1,[0],[1.0])|\n",
      "|      937|  15613630|             Tang|        775|   France|  Male| 52|     8|109922.61|            1|        1|             1|       96823.32|     1|           0.0|        0.0|(2,[0],[1.0])|(1,[0],[1.0])|\n",
      "|     1638|  15678626|          Okonkwo|        538|    Spain|Female| 31|     0|      0.0|            2|        0|             0|      179453.66|     0|           2.0|        1.0|    (2,[],[])|    (1,[],[])|\n",
      "|     2011|  15612050|      Castiglione|        556|    Spain|Female| 48|     8|168522.37|            1|        1|             1|      151310.16|     0|           2.0|        1.0|    (2,[],[])|    (1,[],[])|\n",
      "|     2032|  15591357|           Cowger|        765|   France|  Male| 51|     3| 123372.3|            1|        1|             1|      115429.32|     0|           0.0|        0.0|(2,[0],[1.0])|(1,[0],[1.0])|\n",
      "|     2233|  15671969|          Pruneda|        649|    Spain|  Male| 36|     8|      0.0|            2|        1|             0|      161668.15|     0|           2.0|        0.0|    (2,[],[])|(1,[0],[1.0])|\n",
      "|     2454|  15619935|         Vanmeter|        783|    Spain|Female| 59|     9|126224.87|            1|        1|             1|        4423.63|     0|           2.0|        1.0|    (2,[],[])|    (1,[],[])|\n",
      "|     2543|  15791102|              Mai|        549|  Germany|  Male| 41|     9|  95020.8|            3|        1|             1|      131710.59|     1|           1.0|        0.0|(2,[1],[1.0])|(1,[0],[1.0])|\n",
      "|     2681|  15813532|            Burns|        625|   France|Female| 39|     5|      0.0|            2|        1|             0|       32615.21|     0|           0.0|        1.0|(2,[0],[1.0])|    (1,[],[])|\n",
      "|     2682|  15576760|Onodugoadiegbemma|        673|  Germany|  Male| 36|     5| 73088.06|            2|        0|             0|      196142.26|     0|           1.0|        0.0|(2,[1],[1.0])|(1,[0],[1.0])|\n",
      "|     2788|  15700487|    Osonduagwuike|        805|   France|  Male| 46|     6|118022.06|            3|        1|             0|      162643.15|     1|           0.0|        0.0|(2,[0],[1.0])|(1,[0],[1.0])|\n",
      "|     2796|  15665110|           Helena|        515|   France|Female| 25|     7| 79543.59|            1|        0|             1|       38772.82|     0|           0.0|        1.0|(2,[0],[1.0])|    (1,[],[])|\n",
      "|     2982|  15711218|            Parry|        616|  Germany|  Male| 39|     2|121704.32|            2|        1|             0|        55556.3|     0|           1.0|        0.0|(2,[1],[1.0])|(1,[0],[1.0])|\n",
      "|     3486|  15728456|         Martinez|        604|   France|  Male| 33|     3|      0.0|            1|        1|             0|       42171.13|     1|           0.0|        0.0|(2,[0],[1.0])|(1,[0],[1.0])|\n",
      "|     3506|  15742834|             Liao|        640|   France|  Male| 45|     1|      0.0|            1|        1|             1|       10908.33|     0|           0.0|        0.0|(2,[0],[1.0])|(1,[0],[1.0])|\n",
      "|     3646|  15607263|        McCartney|        788|   France|  Male| 55|     3|      0.0|            1|        0|             1|       13288.46|     1|           0.0|        0.0|(2,[0],[1.0])|(1,[0],[1.0])|\n",
      "+---------+----------+-----------------+-----------+---------+------+---+------+---------+-------------+---------+--------------+---------------+------+--------------+-----------+-------------+-------------+\n",
      "only showing top 20 rows\n",
      "\n"
     ]
    }
   ],
   "execution_count": 8
  },
  {
   "metadata": {
    "ExecuteTime": {
     "end_time": "2025-06-01T11:25:37.400494Z",
     "start_time": "2025-06-01T11:25:37.311685Z"
    }
   },
   "cell_type": "code",
   "source": [
    "# Feature Engineering\n",
    "df_fe = df_encoded.withColumn(\"BalanceToSalaryRatio\", col(\"Balance\") / (col(\"EstimatedSalary\") + 1))\n",
    "df_fe = df_fe.withColumn(\"IsSenior\", when(col(\"Age\") > 60, 1).otherwise(0))\n",
    "df_fe = df_fe.withColumn(\"EngagementScore\", col(\"NumOfProducts\") + col(\"IsActiveMember\") + (1 - col(\"HasCrCard\")))\n",
    "df_fe = df_fe.withColumn(\"HasZeroBalance\", when(col(\"Balance\") == 0, 1).otherwise(0))"
   ],
   "id": "ea4cb541e611cf69",
   "outputs": [],
   "execution_count": 9
  },
  {
   "metadata": {
    "ExecuteTime": {
     "end_time": "2025-06-01T11:25:38.218738Z",
     "start_time": "2025-06-01T11:25:37.402508Z"
    }
   },
   "cell_type": "code",
   "source": [
    "from pyspark.sql.functions import col, when\n",
    "\n",
    "# 1. Sold mediu per produs (evităm împărțirea la zero)\n",
    "df = df.withColumn(\n",
    "    \"AverageBalancePerProduct\",\n",
    "    when(col(\"NumOfProducts\") == 0, 0)\n",
    "    .otherwise(col(\"Balance\") / col(\"NumOfProducts\"))\n",
    ")\n",
    "\n",
    "# 2. Indicator de client loial și activ\n",
    "df = df.withColumn(\n",
    "    \"LoyalActiveCustomer\",\n",
    "    col(\"Tenure\") * col(\"IsActiveMember\")\n",
    ")\n",
    "\n",
    "# Verificăm noile coloane\n",
    "df.select(\"Balance\", \"NumOfProducts\", \"AverageBalancePerProduct\", \"Tenure\", \"IsActiveMember\", \"LoyalActiveCustomer\").show(5)"
   ],
   "id": "2772372babfcb535",
   "outputs": [
    {
     "name": "stdout",
     "output_type": "stream",
     "text": [
      "+---------+-------------+------------------------+------+--------------+-------------------+\n",
      "|  Balance|NumOfProducts|AverageBalancePerProduct|Tenure|IsActiveMember|LoyalActiveCustomer|\n",
      "+---------+-------------+------------------------+------+--------------+-------------------+\n",
      "|101827.07|            1|               101827.07|     9|             0|                  0|\n",
      "|      0.0|            2|                     0.0|     3|             1|                  3|\n",
      "|209767.31|            2|              104883.655|     2|             1|                  2|\n",
      "|129748.54|            2|                64874.27|     2|             0|                  0|\n",
      "|174912.72|            1|               174912.72|     6|             1|                  6|\n",
      "+---------+-------------+------------------------+------+--------------+-------------------+\n",
      "only showing top 5 rows\n",
      "\n"
     ]
    }
   ],
   "execution_count": 10
  },
  {
   "metadata": {
    "ExecuteTime": {
     "end_time": "2025-06-01T11:25:38.251050Z",
     "start_time": "2025-06-01T11:25:38.220256Z"
    }
   },
   "cell_type": "code",
   "source": [
    "from pyspark.sql.functions import col, when\n",
    "\n",
    "df = df.withColumn(\n",
    "    \"AverageBalancePerProduct\",\n",
    "    when(col(\"NumOfProducts\") == 0, 0)\n",
    "    .otherwise(col(\"Balance\") / col(\"NumOfProducts\"))\n",
    ")\n",
    "\n",
    "df = df.withColumn(\n",
    "    \"LoyalActiveCustomer\",\n",
    "    col(\"Tenure\") * col(\"IsActiveMember\")\n",
    ")"
   ],
   "id": "a97e72a8f17f1172",
   "outputs": [],
   "execution_count": 11
  },
  {
   "metadata": {
    "ExecuteTime": {
     "end_time": "2025-06-01T11:25:40.056042Z",
     "start_time": "2025-06-01T11:25:38.253055Z"
    }
   },
   "cell_type": "code",
   "source": [
    "# Standardizare variabile numerice\n",
    "vec_features = VectorAssembler(\n",
    "    inputCols=[\"CreditScore\", \"BalanceToSalaryRatio\", \"EstimatedSalary\", \"Tenure\", \"EngagementScore\"],\n",
    "    outputCol=\"unscaledFeatures\"\n",
    ")\n",
    "df_unscaled = vec_features.transform(df_fe)\n",
    "\n",
    "scaler = StandardScaler(inputCol=\"unscaledFeatures\", outputCol=\"scaledFeatures\")\n",
    "scaler_model = scaler.fit(df_unscaled)\n",
    "df_scaled = scaler_model.transform(df_unscaled)"
   ],
   "id": "4e671f05f9927a1f",
   "outputs": [],
   "execution_count": 12
  },
  {
   "metadata": {
    "ExecuteTime": {
     "end_time": "2025-06-01T11:25:41.460247Z",
     "start_time": "2025-06-01T11:25:40.061154Z"
    }
   },
   "cell_type": "code",
   "source": [
    "# Împărțirea în seturi de antrenare și testare\n",
    "train_data, test_data = df_scaled.randomSplit([0.7, 0.3], seed=42)\n",
    "train_data.show()"
   ],
   "id": "7d309a85856bf80a",
   "outputs": [
    {
     "name": "stdout",
     "output_type": "stream",
     "text": [
      "+---------+----------+-------------+-----------+---------+------+---+------+---------+-------------+---------+--------------+---------------+------+--------------+-----------+-------------+-------------+--------------------+--------+---------------+--------------+--------------------+--------------------+\n",
      "|RowNumber|CustomerId|      Surname|CreditScore|Geography|Gender|Age|Tenure|  Balance|NumOfProducts|HasCrCard|IsActiveMember|EstimatedSalary|Exited|GeographyIndex|GenderIndex| GeographyVec|    GenderVec|BalanceToSalaryRatio|IsSenior|EngagementScore|HasZeroBalance|    unscaledFeatures|      scaledFeatures|\n",
      "+---------+----------+-------------+-----------+---------+------+---+------+---------+-------------+---------+--------------+---------------+------+--------------+-----------+-------------+-------------+--------------------+--------+---------------+--------------+--------------------+--------------------+\n",
      "|        1|  15634602|     Hargrave|        619|   France|Female| 42|     2|      0.0|            1|        1|             1|      101348.88|     1|           0.0|        1.0|(2,[0],[1.0])|    (1,[],[])|                 0.0|       0|              2|             1|[619.0,0.0,101348...|[6.40433392439001...|\n",
      "|        2|  15647311|         Hill|        608|    Spain|Female| 41|     1| 83807.86|            1|        0|             1|      112542.58|     0|           2.0|        1.0|    (2,[],[])|    (1,[],[])|  0.7446702868346644|       0|              3|             0|[608.0,0.74467028...|[6.29052508243801...|\n",
      "|        4|  15701354|         Boni|        699|   France|Female| 39|     1|      0.0|            2|        0|             0|       93826.63|     0|           0.0|        1.0|(2,[0],[1.0])|    (1,[],[])|                 0.0|       0|              3|             1|[699.0,0.0,93826....|[7.23203459313185...|\n",
      "|        5|  15737888|     Mitchell|        850|    Spain|Female| 43|     2|125510.82|            1|        1|             1|        79084.1|     0|           2.0|        1.0|    (2,[],[])|    (1,[],[])|  1.5870349787760274|       0|              2|             0|[850.0,1.58703497...|[8.79431960538208...|\n",
      "|        6|  15574012|          Chu|        645|    Spain|  Male| 44|     8|113755.78|            2|        1|             0|      149756.71|     1|           2.0|        0.0|    (2,[],[])|(1,[0],[1.0])|  0.7595988213227887|       0|              2|             0|[645.0,0.75959882...|[6.67333664173111...|\n",
      "|        8|  15656148|       Obinna|        376|  Germany|Female| 29|     4|115046.74|            4|        1|             0|      119346.88|     1|           1.0|        1.0|(2,[1],[1.0])|    (1,[],[])|  0.9639613204692031|       0|              4|             0|[376.0,0.96396132...|[3.89019314308666...|\n",
      "|       11|  15767821|       Bearce|        528|   France|  Male| 31|     6|102016.72|            2|        0|             0|       80181.12|     0|           0.0|        0.0|(2,[0],[1.0])|(1,[0],[1.0])|  1.2723125804106952|       0|              3|             0|[528.0,1.27231258...|[5.46282441369616...|\n",
      "|       12|  15737173|      Andrews|        497|    Spain|  Male| 24|     3|      0.0|            2|        1|             0|       76390.01|     0|           2.0|        0.0|    (2,[],[])|(1,[0],[1.0])|                 0.0|       0|              2|             1|[497.0,0.0,76390....|[5.14209040455870...|\n",
      "|       13|  15632264|          Kay|        476|   France|Female| 34|    10|      0.0|            2|        1|             0|       26260.98|     0|           0.0|        1.0|(2,[0],[1.0])|    (1,[],[])|                 0.0|       0|              2|             1|[476.0,0.0,26260....|[4.92481897901396...|\n",
      "|       17|  15737452|        Romeo|        653|  Germany|  Male| 58|     1|132602.88|            1|        1|             0|        5097.67|     1|           1.0|        0.0|(2,[1],[1.0])|(1,[0],[1.0])|   26.00734701402523|       0|              1|             0|[653.0,26.0073470...|[6.75610670860529...|\n",
      "|       18|  15788218|    Henderson|        549|    Spain|Female| 24|     9|      0.0|            2|        1|             1|       14406.41|     0|           2.0|        1.0|    (2,[],[])|    (1,[],[])|                 0.0|       0|              3|             1|[549.0,0.0,14406....|[5.68009583924090...|\n",
      "|       19|  15661507|      Muldrow|        587|    Spain|  Male| 45|     6|      0.0|            1|        0|             0|      158684.81|     0|           2.0|        0.0|    (2,[],[])|(1,[0],[1.0])|                 0.0|       0|              2|             1|[587.0,0.0,158684...|[6.07325365689327...|\n",
      "|       21|  15577657|     McDonald|        732|   France|  Male| 41|     8|      0.0|            2|        1|             1|      170886.17|     0|           0.0|        0.0|(2,[0],[1.0])|(1,[0],[1.0])|                 0.0|       0|              3|             1|[732.0,0.0,170886...|[7.57346111898786...|\n",
      "|       23|  15699309|    Gerasimov|        510|    Spain|Female| 38|     4|      0.0|            1|        1|             0|      118913.53|     1|           2.0|        1.0|    (2,[],[])|    (1,[],[])|                 0.0|       0|              1|             1|[510.0,0.0,118913...|[5.27659176322925...|\n",
      "|       26|  15738191|      Maclean|        577|   France|  Male| 25|     3|      0.0|            2|        0|             1|      124508.29|     0|           0.0|        0.0|(2,[0],[1.0])|(1,[0],[1.0])|                 0.0|       0|              4|             1|[577.0,0.0,124508...|[5.96979107330054...|\n",
      "|       27|  15736816|        Young|        756|  Germany|  Male| 36|     2|136815.64|            1|        1|             1|      170041.95|     0|           1.0|        0.0|(2,[1],[1.0])|(1,[0],[1.0])|  0.8045946038927224|       0|              2|             0|[756.0,0.80459460...|[7.82177131961042...|\n",
      "|       28|  15700772|      Nebechi|        571|   France|  Male| 44|     9|      0.0|            2|        0|             0|       38433.35|     0|           0.0|        0.0|(2,[0],[1.0])|(1,[0],[1.0])|                 0.0|       0|              3|             1|[571.0,0.0,38433....|[5.90771352314490...|\n",
      "|       32|  15706552|Odinakachukwu|        533|   France|  Male| 36|     7|  85311.7|            1|        0|             1|      156731.91|     0|           0.0|        0.0|(2,[0],[1.0])|(1,[0],[1.0])|  0.5443126143705237|       0|              3|             0|[533.0,0.54431261...|[5.51455570549253...|\n",
      "|       34|  15659428|      Maggard|        520|    Spain|Female| 42|     6|      0.0|            2|        1|             1|       34410.55|     0|           2.0|        1.0|    (2,[],[])|    (1,[],[])|                 0.0|       0|              3|             1|[520.0,0.0,34410....|[5.38005434682198...|\n",
      "|       37|  15788448|       Watson|        490|    Spain|  Male| 31|     3|145260.23|            1|        0|             1|      114066.77|     0|           2.0|        0.0|    (2,[],[])|(1,[0],[1.0])|  1.2734555080720873|       0|              3|             0|[490.0,1.27345550...|[5.06966659604379...|\n",
      "+---------+----------+-------------+-----------+---------+------+---+------+---------+-------------+---------+--------------+---------------+------+--------------+-----------+-------------+-------------+--------------------+--------+---------------+--------------+--------------------+--------------------+\n",
      "only showing top 20 rows\n",
      "\n"
     ]
    }
   ],
   "execution_count": 13
  },
  {
   "metadata": {},
   "cell_type": "markdown",
   "source": [
    "# Linear Regression\n",
    "\n",
    "## H1"
   ],
   "id": "9a16f8d0e7f1b178"
  },
  {
   "metadata": {
    "ExecuteTime": {
     "end_time": "2025-06-01T11:25:45.315511Z",
     "start_time": "2025-06-01T11:25:41.464262Z"
    }
   },
   "cell_type": "code",
   "source": [
    "from pyspark.ml.feature import VectorAssembler\n",
    "from pyspark.ml.regression import LinearRegression\n",
    "\n",
    "cols_H1 = [\"Age\", \"EstimatedSalary\", \"Tenure\", \"NumOfProducts\", \"HasCrCard\"]\n",
    "vec_assembler_h1 = VectorAssembler(inputCols=cols_H1, outputCol=\"features_H1\")\n",
    "df_h1 = vec_assembler_h1.transform(df).select(\"features_H1\", \"Balance\")\n",
    "\n",
    "# Model H1\n",
    "lr_h1 = LinearRegression(featuresCol=\"features_H1\", labelCol=\"Balance\")\n",
    "model_h1 = lr_h1.fit(df_h1)\n",
    "\n",
    "print(\"Rezultate H1\")\n",
    "print(f\"R2: {model_h1.summary.r2}\")\n",
    "print(f\"RMSE: {model_h1.summary.rootMeanSquaredError}\")"
   ],
   "id": "b6498df3f679c323",
   "outputs": [
    {
     "name": "stdout",
     "output_type": "stream",
     "text": [
      "Rezultate H1\n",
      "R2: 0.09342647285642658\n",
      "RMSE: 59408.191338902456\n"
     ]
    }
   ],
   "execution_count": 14
  },
  {
   "metadata": {
    "ExecuteTime": {
     "end_time": "2025-05-29T19:29:14.794541Z",
     "start_time": "2025-05-29T19:24:30.678848Z"
    }
   },
   "cell_type": "code",
   "source": [
    "from pyspark.ml.evaluation import RegressionEvaluator\n",
    "from pyspark.ml.tuning import ParamGridBuilder, CrossValidator\n",
    "\n",
    "\n",
    "model_h1 = LinearRegression(featuresCol=\"features_H1\", labelCol=\"Balance\")\n",
    "evaluator = RegressionEvaluator(labelCol=\"Balance\", predictionCol=\"prediction\", metricName=\"r2\")\n",
    "\n",
    "paramGrid = ParamGridBuilder() \\\n",
    "    .addGrid(model_h1.regParam, [0.0, 0.1, 0.2]) \\\n",
    "    .addGrid(model_h1.elasticNetParam, [0.0, 0.5, 1.0]) \\\n",
    "    .addGrid(model_h1.maxIter, [10, 50, 100]) \\\n",
    "    .build()\n",
    "\n",
    "cv = CrossValidator(estimator=model_h1,\n",
    "                    estimatorParamMaps=paramGrid,\n",
    "                    evaluator=evaluator,\n",
    "                    numFolds=3)\n",
    "\n",
    "cvModel = cv.fit(df_h1)\n",
    "predictions = cvModel.transform(df_h1)\n",
    "r2 = evaluator.evaluate(predictions)\n",
    "rmse = RegressionEvaluator(labelCol=\"Balance\", metricName=\"rmse\").evaluate(predictions)\n",
    "\n",
    "print(f\"Best model R²: {r2:.4f}\")\n",
    "print(f\"Best model RMSE: {rmse:.2f}\")"
   ],
   "id": "2bd4aa5549133c92",
   "outputs": [
    {
     "name": "stdout",
     "output_type": "stream",
     "text": [
      "Best model R²: 0.0934\n",
      "Best model RMSE: 59408.19\n"
     ]
    }
   ],
   "execution_count": 15
  },
  {
   "metadata": {},
   "cell_type": "markdown",
   "source": "## H2",
   "id": "23942a0b0bb2399f"
  },
  {
   "metadata": {
    "ExecuteTime": {
     "end_time": "2025-06-01T11:25:48.533318Z",
     "start_time": "2025-06-01T11:25:45.318035Z"
    }
   },
   "cell_type": "code",
   "source": [
    "from pyspark.ml.feature import StringIndexer\n",
    "\n",
    "indexer = StringIndexer(inputCol=\"Geography\", outputCol=\"GeographyIndexed\")\n",
    "df = indexer.fit(df).transform(df)\n",
    "\n",
    "cols_H2 = [\"IsActiveMember\", \"GeographyIndexed\", \"CreditScore\", \"EstimatedSalary\"]\n",
    "\n",
    "vec_assembler_h2 = VectorAssembler(inputCols=cols_H2, outputCol=\"features_H2\")\n",
    "df_h2 = vec_assembler_h2.transform(df).select(\"features_H2\", \"Balance\")\n",
    "\n",
    "lr_h2 = LinearRegression(featuresCol=\"features_H2\", labelCol=\"Balance\")\n",
    "model_h2 = lr_h2.fit(df_h2)\n",
    "\n",
    "print(\"Rezultate H2\")\n",
    "print(f\"R2: {model_h2.summary.r2}\")\n",
    "print(f\"RMSE: {model_h2.summary.rootMeanSquaredError}\")"
   ],
   "id": "ca3ec74ab047609a",
   "outputs": [
    {
     "name": "stdout",
     "output_type": "stream",
     "text": [
      "Rezultate H2\n",
      "R2: 0.005128043026429774\n",
      "RMSE: 62234.09934041656\n"
     ]
    }
   ],
   "execution_count": 15
  },
  {
   "metadata": {
    "ExecuteTime": {
     "end_time": "2025-06-01T11:30:19.813270Z",
     "start_time": "2025-06-01T11:25:56.485331Z"
    }
   },
   "cell_type": "code",
   "source": [
    "from pyspark.ml.evaluation import RegressionEvaluator\n",
    "from pyspark.ml.tuning import ParamGridBuilder, CrossValidator\n",
    "\n",
    "\n",
    "model_h2 = LinearRegression(featuresCol=\"features_H2\", labelCol=\"Balance\")\n",
    "evaluator = RegressionEvaluator(labelCol=\"Balance\", predictionCol=\"prediction\", metricName=\"r2\")\n",
    "\n",
    "paramGrid = ParamGridBuilder() \\\n",
    "    .addGrid(model_h2.regParam, [0.0, 0.1, 0.2]) \\\n",
    "    .addGrid(model_h2.elasticNetParam, [0.0, 0.5, 1.0]) \\\n",
    "    .addGrid(model_h2.maxIter, [10, 50, 100]) \\\n",
    "    .build()\n",
    "\n",
    "cv = CrossValidator(estimator=model_h2,\n",
    "                    estimatorParamMaps=paramGrid,\n",
    "                    evaluator=evaluator,\n",
    "                    numFolds=3)\n",
    "\n",
    "cvModel = cv.fit(df_h2)\n",
    "predictions = cvModel.transform(df_h2)\n",
    "r2 = evaluator.evaluate(predictions)\n",
    "rmse = RegressionEvaluator(labelCol=\"Balance\", metricName=\"rmse\").evaluate(predictions)\n",
    "\n",
    "print(f\"Best model R²: {r2:.4f}\")\n",
    "print(f\"Best model RMSE: {rmse:.2f}\")"
   ],
   "id": "57be638334ef26b",
   "outputs": [
    {
     "ename": "KeyboardInterrupt",
     "evalue": "",
     "output_type": "error",
     "traceback": [
      "\u001B[31m---------------------------------------------------------------------------\u001B[39m",
      "\u001B[31mIndexError\u001B[39m                                Traceback (most recent call last)",
      "\u001B[36mFile \u001B[39m\u001B[32m~\\AppData\\Local\\Programs\\Python\\Python311\\Lib\\multiprocessing\\pool.py:856\u001B[39m, in \u001B[36mIMapIterator.next\u001B[39m\u001B[34m(self, timeout)\u001B[39m\n\u001B[32m    855\u001B[39m \u001B[38;5;28;01mtry\u001B[39;00m:\n\u001B[32m--> \u001B[39m\u001B[32m856\u001B[39m     item = \u001B[38;5;28mself\u001B[39m._items.popleft()\n\u001B[32m    857\u001B[39m \u001B[38;5;28;01mexcept\u001B[39;00m \u001B[38;5;167;01mIndexError\u001B[39;00m:\n",
      "\u001B[31mIndexError\u001B[39m: pop from an empty deque",
      "\nDuring handling of the above exception, another exception occurred:\n",
      "\u001B[31mKeyboardInterrupt\u001B[39m                         Traceback (most recent call last)",
      "\u001B[36mCell\u001B[39m\u001B[36m \u001B[39m\u001B[32mIn[16]\u001B[39m\u001B[32m, line 19\u001B[39m\n\u001B[32m      8\u001B[39m paramGrid = ParamGridBuilder() \\\n\u001B[32m      9\u001B[39m     .addGrid(model_h2.regParam, [\u001B[32m0.0\u001B[39m, \u001B[32m0.1\u001B[39m, \u001B[32m0.2\u001B[39m]) \\\n\u001B[32m     10\u001B[39m     .addGrid(model_h2.elasticNetParam, [\u001B[32m0.0\u001B[39m, \u001B[32m0.5\u001B[39m, \u001B[32m1.0\u001B[39m]) \\\n\u001B[32m     11\u001B[39m     .addGrid(model_h2.maxIter, [\u001B[32m10\u001B[39m, \u001B[32m50\u001B[39m, \u001B[32m100\u001B[39m]) \\\n\u001B[32m     12\u001B[39m     .build()\n\u001B[32m     14\u001B[39m cv = CrossValidator(estimator=model_h2,\n\u001B[32m     15\u001B[39m                     estimatorParamMaps=paramGrid,\n\u001B[32m     16\u001B[39m                     evaluator=evaluator,\n\u001B[32m     17\u001B[39m                     numFolds=\u001B[32m3\u001B[39m)\n\u001B[32m---> \u001B[39m\u001B[32m19\u001B[39m cvModel = \u001B[43mcv\u001B[49m\u001B[43m.\u001B[49m\u001B[43mfit\u001B[49m\u001B[43m(\u001B[49m\u001B[43mdf_h2\u001B[49m\u001B[43m)\u001B[49m\n\u001B[32m     20\u001B[39m predictions = cvModel.transform(df_h2)\n\u001B[32m     21\u001B[39m r2 = evaluator.evaluate(predictions)\n",
      "\u001B[36mFile \u001B[39m\u001B[32m~\\PycharmProjects\\TBD-Laboratorul-III\\.venv\\Lib\\site-packages\\pyspark\\ml\\base.py:205\u001B[39m, in \u001B[36mEstimator.fit\u001B[39m\u001B[34m(self, dataset, params)\u001B[39m\n\u001B[32m    203\u001B[39m         \u001B[38;5;28;01mreturn\u001B[39;00m \u001B[38;5;28mself\u001B[39m.copy(params)._fit(dataset)\n\u001B[32m    204\u001B[39m     \u001B[38;5;28;01melse\u001B[39;00m:\n\u001B[32m--> \u001B[39m\u001B[32m205\u001B[39m         \u001B[38;5;28;01mreturn\u001B[39;00m \u001B[38;5;28;43mself\u001B[39;49m\u001B[43m.\u001B[49m\u001B[43m_fit\u001B[49m\u001B[43m(\u001B[49m\u001B[43mdataset\u001B[49m\u001B[43m)\u001B[49m\n\u001B[32m    206\u001B[39m \u001B[38;5;28;01melse\u001B[39;00m:\n\u001B[32m    207\u001B[39m     \u001B[38;5;28;01mraise\u001B[39;00m \u001B[38;5;167;01mTypeError\u001B[39;00m(\n\u001B[32m    208\u001B[39m         \u001B[33m\"\u001B[39m\u001B[33mParams must be either a param map or a list/tuple of param maps, \u001B[39m\u001B[33m\"\u001B[39m\n\u001B[32m    209\u001B[39m         \u001B[33m\"\u001B[39m\u001B[33mbut got \u001B[39m\u001B[38;5;132;01m%s\u001B[39;00m\u001B[33m.\u001B[39m\u001B[33m\"\u001B[39m % \u001B[38;5;28mtype\u001B[39m(params)\n\u001B[32m    210\u001B[39m     )\n",
      "\u001B[36mFile \u001B[39m\u001B[32m~\\PycharmProjects\\TBD-Laboratorul-III\\.venv\\Lib\\site-packages\\pyspark\\ml\\tuning.py:847\u001B[39m, in \u001B[36mCrossValidator._fit\u001B[39m\u001B[34m(self, dataset)\u001B[39m\n\u001B[32m    841\u001B[39m train = datasets[i][\u001B[32m0\u001B[39m].cache()\n\u001B[32m    843\u001B[39m tasks = \u001B[38;5;28mmap\u001B[39m(\n\u001B[32m    844\u001B[39m     inheritable_thread_target,\n\u001B[32m    845\u001B[39m     _parallelFitTasks(est, train, eva, validation, epm, collectSubModelsParam),\n\u001B[32m    846\u001B[39m )\n\u001B[32m--> \u001B[39m\u001B[32m847\u001B[39m \u001B[43m\u001B[49m\u001B[38;5;28;43;01mfor\u001B[39;49;00m\u001B[43m \u001B[49m\u001B[43mj\u001B[49m\u001B[43m,\u001B[49m\u001B[43m \u001B[49m\u001B[43mmetric\u001B[49m\u001B[43m,\u001B[49m\u001B[43m \u001B[49m\u001B[43msubModel\u001B[49m\u001B[43m \u001B[49m\u001B[38;5;129;43;01min\u001B[39;49;00m\u001B[43m \u001B[49m\u001B[43mpool\u001B[49m\u001B[43m.\u001B[49m\u001B[43mimap_unordered\u001B[49m\u001B[43m(\u001B[49m\u001B[38;5;28;43;01mlambda\u001B[39;49;00m\u001B[43m \u001B[49m\u001B[43mf\u001B[49m\u001B[43m:\u001B[49m\u001B[43m \u001B[49m\u001B[43mf\u001B[49m\u001B[43m(\u001B[49m\u001B[43m)\u001B[49m\u001B[43m,\u001B[49m\u001B[43m \u001B[49m\u001B[43mtasks\u001B[49m\u001B[43m)\u001B[49m\u001B[43m:\u001B[49m\n\u001B[32m    848\u001B[39m \u001B[43m    \u001B[49m\u001B[43mmetrics_all\u001B[49m\u001B[43m[\u001B[49m\u001B[43mi\u001B[49m\u001B[43m]\u001B[49m\u001B[43m[\u001B[49m\u001B[43mj\u001B[49m\u001B[43m]\u001B[49m\u001B[43m \u001B[49m\u001B[43m=\u001B[49m\u001B[43m \u001B[49m\u001B[43mmetric\u001B[49m\n\u001B[32m    849\u001B[39m \u001B[43m    \u001B[49m\u001B[38;5;28;43;01mif\u001B[39;49;00m\u001B[43m \u001B[49m\u001B[43mcollectSubModelsParam\u001B[49m\u001B[43m:\u001B[49m\n",
      "\u001B[36mFile \u001B[39m\u001B[32m~\\AppData\\Local\\Programs\\Python\\Python311\\Lib\\multiprocessing\\pool.py:861\u001B[39m, in \u001B[36mIMapIterator.next\u001B[39m\u001B[34m(self, timeout)\u001B[39m\n\u001B[32m    859\u001B[39m     \u001B[38;5;28mself\u001B[39m._pool = \u001B[38;5;28;01mNone\u001B[39;00m\n\u001B[32m    860\u001B[39m     \u001B[38;5;28;01mraise\u001B[39;00m \u001B[38;5;167;01mStopIteration\u001B[39;00m \u001B[38;5;28;01mfrom\u001B[39;00m\u001B[38;5;250m \u001B[39m\u001B[38;5;28;01mNone\u001B[39;00m\n\u001B[32m--> \u001B[39m\u001B[32m861\u001B[39m \u001B[38;5;28;43mself\u001B[39;49m\u001B[43m.\u001B[49m\u001B[43m_cond\u001B[49m\u001B[43m.\u001B[49m\u001B[43mwait\u001B[49m\u001B[43m(\u001B[49m\u001B[43mtimeout\u001B[49m\u001B[43m)\u001B[49m\n\u001B[32m    862\u001B[39m \u001B[38;5;28;01mtry\u001B[39;00m:\n\u001B[32m    863\u001B[39m     item = \u001B[38;5;28mself\u001B[39m._items.popleft()\n",
      "\u001B[36mFile \u001B[39m\u001B[32m~\\AppData\\Local\\Programs\\Python\\Python311\\Lib\\threading.py:327\u001B[39m, in \u001B[36mCondition.wait\u001B[39m\u001B[34m(self, timeout)\u001B[39m\n\u001B[32m    325\u001B[39m \u001B[38;5;28;01mtry\u001B[39;00m:    \u001B[38;5;66;03m# restore state no matter what (e.g., KeyboardInterrupt)\u001B[39;00m\n\u001B[32m    326\u001B[39m     \u001B[38;5;28;01mif\u001B[39;00m timeout \u001B[38;5;129;01mis\u001B[39;00m \u001B[38;5;28;01mNone\u001B[39;00m:\n\u001B[32m--> \u001B[39m\u001B[32m327\u001B[39m         \u001B[43mwaiter\u001B[49m\u001B[43m.\u001B[49m\u001B[43macquire\u001B[49m\u001B[43m(\u001B[49m\u001B[43m)\u001B[49m\n\u001B[32m    328\u001B[39m         gotit = \u001B[38;5;28;01mTrue\u001B[39;00m\n\u001B[32m    329\u001B[39m     \u001B[38;5;28;01melse\u001B[39;00m:\n",
      "\u001B[31mKeyboardInterrupt\u001B[39m: "
     ]
    }
   ],
   "execution_count": 16
  },
  {
   "metadata": {},
   "cell_type": "markdown",
   "source": "# Decision Tree",
   "id": "d1f7d19cea9e23f1"
  },
  {
   "metadata": {
    "ExecuteTime": {
     "end_time": "2025-06-01T11:33:12.742738Z",
     "start_time": "2025-06-01T11:33:09.029848Z"
    }
   },
   "cell_type": "code",
   "source": [
    "from pyspark.ml.classification import DecisionTreeClassifier\n",
    "from pyspark.ml.evaluation import MulticlassClassificationEvaluator\n",
    "\n",
    "dt = DecisionTreeClassifier(labelCol=\"Exited\", featuresCol=\"scaledFeatures\", maxDepth=5)\n",
    "dt_model = dt.fit(train_data)\n",
    "\n",
    "predictions = dt_model.transform(test_data)\n",
    "evaluator = MulticlassClassificationEvaluator(\n",
    "    labelCol=\"Exited\", predictionCol=\"prediction\", metricName=\"accuracy\"\n",
    ")\n",
    "\n",
    "accuracy = evaluator.evaluate(predictions)\n",
    "print(f\"✅ Acuratețea modelului Decision Tree: {accuracy:.4f}\")"
   ],
   "id": "7f1265f64ca6d255",
   "outputs": [
    {
     "name": "stdout",
     "output_type": "stream",
     "text": [
      "✅ Acuratețea modelului Decision Tree: 0.8070\n"
     ]
    }
   ],
   "execution_count": 18
  },
  {
   "metadata": {},
   "cell_type": "markdown",
   "source": "# Random Forest",
   "id": "6eaf0eccb485274b"
  },
  {
   "metadata": {
    "ExecuteTime": {
     "end_time": "2025-06-01T11:36:06.360513Z",
     "start_time": "2025-06-01T11:36:02.113564Z"
    }
   },
   "cell_type": "code",
   "source": [
    "from pyspark.ml.classification import RandomForestClassifier\n",
    "\n",
    "rf = RandomForestClassifier(labelCol=\"Exited\", featuresCol=\"scaledFeatures\", numTrees=100, maxDepth=5)\n",
    "rf_model = rf.fit(train_data)\n",
    "\n",
    "rf_predictions = rf_model.transform(test_data)\n",
    "\n",
    "from pyspark.ml.evaluation import MulticlassClassificationEvaluator\n",
    "rf_evaluator = MulticlassClassificationEvaluator(labelCol=\"Exited\", predictionCol=\"prediction\", metricName=\"accuracy\")\n",
    "\n",
    "rf_accuracy = rf_evaluator.evaluate(rf_predictions)\n",
    "print(f\"Acuratețea Random Forest: {rf_accuracy:.4f}\")\n",
    "\n",
    "rf_predictions.select(\"Exited\", \"prediction\", \"probability\").show(10, truncate=False)\n",
    "for idx, importance in enumerate(rf_model.featureImportances):\n",
    "    print(f\"Feature {idx}: {importance:.4f}\")"
   ],
   "id": "ddd129c66b55479c",
   "outputs": [
    {
     "name": "stdout",
     "output_type": "stream",
     "text": [
      "Acuratețea Random Forest: 0.8080\n",
      "+------+----------+----------------------------------------+\n",
      "|Exited|prediction|probability                             |\n",
      "+------+----------+----------------------------------------+\n",
      "|1     |0.0       |[0.8056411121785289,0.19435888782147123]|\n",
      "|0     |0.0       |[0.8845786357833165,0.11542136421668348]|\n",
      "|0     |0.0       |[0.7943508861343599,0.2056491138656402] |\n",
      "|0     |0.0       |[0.810756530283223,0.18924346971677705] |\n",
      "|0     |0.0       |[0.8609722052509492,0.1390277947490508] |\n",
      "|0     |0.0       |[0.8837604236261853,0.11623957637381471]|\n",
      "|0     |0.0       |[0.8036229407057875,0.19637705929421256]|\n",
      "|0     |0.0       |[0.8837604236261853,0.11623957637381471]|\n",
      "|0     |0.0       |[0.8817873843019494,0.11821261569805053]|\n",
      "|0     |0.0       |[0.8797028324262287,0.12029716757377132]|\n",
      "+------+----------+----------------------------------------+\n",
      "only showing top 10 rows\n",
      "\n",
      "Feature 0: 0.0607\n",
      "Feature 1: 0.1646\n",
      "Feature 2: 0.0625\n",
      "Feature 3: 0.0487\n",
      "Feature 4: 0.6635\n"
     ]
    }
   ],
   "execution_count": 19
  },
  {
   "metadata": {},
   "cell_type": "markdown",
   "source": "# Gradient Boosting",
   "id": "84ef8c562eaa59a2"
  },
  {
   "metadata": {
    "ExecuteTime": {
     "end_time": "2025-06-01T11:39:43.765845Z",
     "start_time": "2025-06-01T11:39:32.193102Z"
    }
   },
   "cell_type": "code",
   "source": [
    "from pyspark.ml.classification import GBTClassifier\n",
    "\n",
    "gbt = GBTClassifier(labelCol=\"Exited\", featuresCol=\"scaledFeatures\", maxIter=50, maxDepth=5)\n",
    "gbt_model = gbt.fit(train_data)\n",
    "\n",
    "gbt_predictions = gbt_model.transform(test_data)\n",
    "\n",
    "from pyspark.ml.evaluation import MulticlassClassificationEvaluator\n",
    "gbt_evaluator = MulticlassClassificationEvaluator(labelCol=\"Exited\", predictionCol=\"prediction\", metricName=\"accuracy\")\n",
    "\n",
    "gbt_accuracy = gbt_evaluator.evaluate(gbt_predictions)\n",
    "print(f\"Acuratețea Gradient Boosted Trees: {gbt_accuracy:.4f}\")\n",
    "\n",
    "gbt_predictions.select(\"Exited\", \"prediction\", \"probability\").show(10, truncate=False)"
   ],
   "id": "58771aaf9f415093",
   "outputs": [
    {
     "name": "stdout",
     "output_type": "stream",
     "text": [
      "Acuratețea Gradient Boosted Trees: 0.8008\n",
      "+------+----------+----------------------------------------+\n",
      "|Exited|prediction|probability                             |\n",
      "+------+----------+----------------------------------------+\n",
      "|1     |0.0       |[0.8163430302529538,0.18365696974704615]|\n",
      "|0     |0.0       |[0.9217178501340414,0.0782821498659586] |\n",
      "|0     |0.0       |[0.6267977358851978,0.3732022641148022] |\n",
      "|0     |0.0       |[0.8273791237639765,0.1726208762360235] |\n",
      "|0     |0.0       |[0.8320041768949538,0.16799582310504624]|\n",
      "|0     |0.0       |[0.9037331722063136,0.09626682779368645]|\n",
      "|0     |0.0       |[0.7089597345915557,0.2910402654084443] |\n",
      "|0     |0.0       |[0.9275451452229487,0.07245485477705127]|\n",
      "|0     |0.0       |[0.8965384905216686,0.10346150947833144]|\n",
      "|0     |0.0       |[0.9128474953615452,0.08715250463845481]|\n",
      "+------+----------+----------------------------------------+\n",
      "only showing top 10 rows\n",
      "\n"
     ]
    }
   ],
   "execution_count": 20
  },
  {
   "metadata": {},
   "cell_type": "markdown",
   "source": "# Logistic Regression",
   "id": "14c9eafa8cc56d8a"
  },
  {
   "metadata": {
    "ExecuteTime": {
     "end_time": "2025-06-01T11:42:42.994166Z",
     "start_time": "2025-06-01T11:42:40.537412Z"
    }
   },
   "cell_type": "code",
   "source": [
    "from pyspark.ml.classification import LogisticRegression\n",
    "\n",
    "lr = LogisticRegression(labelCol=\"Exited\", featuresCol=\"scaledFeatures\", maxIter=100)\n",
    "lr_model = lr.fit(train_data)\n",
    "\n",
    "lr_predictions = lr_model.transform(test_data)\n",
    "\n",
    "from pyspark.ml.evaluation import MulticlassClassificationEvaluator\n",
    "lr_evaluator = MulticlassClassificationEvaluator(labelCol=\"Exited\", predictionCol=\"prediction\", metricName=\"accuracy\")\n",
    "\n",
    "lr_accuracy = lr_evaluator.evaluate(lr_predictions)\n",
    "print(f\"Acuratețea Logistic Regression: {lr_accuracy:.4f}\")\n",
    "\n",
    "print(\"Coeficienți:\", lr_model.coefficients)\n",
    "print(\"Intercept:\", lr_model.intercept)"
   ],
   "id": "16b63f037bbe949c",
   "outputs": [
    {
     "name": "stdout",
     "output_type": "stream",
     "text": [
      "Acuratețea Logistic Regression: 0.8032\n",
      "Coeficienți: [-0.05275177856610771,0.1679612933398506,0.06999779083569614,-0.032198228200976044,-0.3179576334803355]\n",
      "Intercept: -0.2669687774481062\n"
     ]
    }
   ],
   "execution_count": 21
  },
  {
   "metadata": {},
   "cell_type": "markdown",
   "source": [
    "# Regression with tries\n",
    "## H1"
   ],
   "id": "20425cf866c2a6fe"
  },
  {
   "metadata": {
    "ExecuteTime": {
     "end_time": "2025-06-01T11:50:25.443175Z",
     "start_time": "2025-06-01T11:50:22.395123Z"
    }
   },
   "cell_type": "code",
   "source": [
    "from pyspark.ml.feature import VectorAssembler\n",
    "from pyspark.ml.regression import DecisionTreeRegressor\n",
    "from pyspark.ml.evaluation import RegressionEvaluator\n",
    "\n",
    "cols_H1 = [\"Age\", \"EstimatedSalary\", \"Tenure\", \"NumOfProducts\", \"HasCrCard\"]\n",
    "vec_assembler_h1 = VectorAssembler(inputCols=cols_H1, outputCol=\"features_H1\")\n",
    "df_h1 = vec_assembler_h1.transform(df).select(\"features_H1\", \"Balance\")\n",
    "train_h1, test_h1 = df_h1.randomSplit([0.7, 0.3], seed=42)\n",
    "dt_h1 = DecisionTreeRegressor(featuresCol=\"features_H1\", labelCol=\"Balance\", maxDepth=5)\n",
    "model_h1 = dt_h1.fit(train_h1)\n",
    "predictions_h1 = model_h1.transform(test_h1)\n",
    "\n",
    "evaluator_r2 = RegressionEvaluator(\n",
    "    labelCol=\"Balance\", predictionCol=\"prediction\", metricName=\"r2\"\n",
    ")\n",
    "evaluator_mse = RegressionEvaluator(\n",
    "    labelCol=\"Balance\", predictionCol=\"prediction\", metricName=\"mse\"\n",
    ")\n",
    "\n",
    "r2_h1 = evaluator_r2.evaluate(predictions_h1)\n",
    "mse_h1 = evaluator_mse.evaluate(predictions_h1)\n",
    "\n",
    "print(\"Rezultate Decision Tree Regressor - H1:\")\n",
    "print(f\"R²: {r2_h1:.4f}\")\n",
    "print(f\"MSE: {mse_h1:.2f}\")"
   ],
   "id": "cb199764a6490d95",
   "outputs": [
    {
     "name": "stdout",
     "output_type": "stream",
     "text": [
      "Rezultate Decision Tree Regressor - H1:\n",
      "R²: 0.1345\n",
      "MSE: 3371909632.63\n"
     ]
    }
   ],
   "execution_count": 30
  },
  {
   "metadata": {},
   "cell_type": "markdown",
   "source": "## H2",
   "id": "2fca79aa3112e058"
  },
  {
   "metadata": {
    "ExecuteTime": {
     "end_time": "2025-06-01T11:52:40.877410Z",
     "start_time": "2025-06-01T11:52:39.368728Z"
    }
   },
   "cell_type": "code",
   "source": [
    "from pyspark.ml.feature import VectorAssembler, StringIndexer\n",
    "from pyspark.ml.regression import DecisionTreeRegressor\n",
    "from pyspark.ml.evaluation import RegressionEvaluator\n",
    "\n",
    "cols_H2 = [\"IsActiveMember\", \"GeographyIndexed\", \"CreditScore\", \"EstimatedSalary\"]\n",
    "vec_assembler_h2 = VectorAssembler(inputCols=cols_H2, outputCol=\"features_H2\")\n",
    "df_h2 = vec_assembler_h2.transform(df).select(\"features_H2\", \"Balance\")\n",
    "train_h2, test_h2 = df_h2.randomSplit([0.7, 0.3], seed=42)\n",
    "dt_h2 = DecisionTreeRegressor(featuresCol=\"features_H2\", labelCol=\"Balance\", maxDepth=5)\n",
    "model_h2 = dt_h2.fit(train_h2)\n",
    "predictions_h2 = model_h2.transform(test_h2)\n",
    "evaluator_r2_h2 = RegressionEvaluator(labelCol=\"Balance\", predictionCol=\"prediction\", metricName=\"r2\")\n",
    "evaluator_mse_h2 = RegressionEvaluator(labelCol=\"Balance\", predictionCol=\"prediction\", metricName=\"mse\")\n",
    "\n",
    "r2_h2 = evaluator_r2_h2.evaluate(predictions_h2)\n",
    "mse_h2 = evaluator_mse_h2.evaluate(predictions_h2)\n",
    "\n",
    "print(\"Rezultate Decision Tree Regressor - H2:\")\n",
    "print(f\"R²: {r2_h2:.4f}\")\n",
    "print(f\"MSE: {mse_h2:.2f}\")"
   ],
   "id": "d38964f961e9e96a",
   "outputs": [
    {
     "name": "stdout",
     "output_type": "stream",
     "text": [
      "Rezultate Decision Tree Regressor - H2:\n",
      "R²: 0.1594\n",
      "MSE: 3265161897.31\n"
     ]
    }
   ],
   "execution_count": 32
  },
  {
   "metadata": {},
   "cell_type": "code",
   "outputs": [],
   "execution_count": null,
   "source": "",
   "id": "e3ebbb1019dd450f"
  },
  {
   "metadata": {},
   "cell_type": "code",
   "outputs": [],
   "execution_count": null,
   "source": "",
   "id": "9864d438a8ea22"
  }
 ],
 "metadata": {
  "kernelspec": {
   "display_name": "Python 3",
   "language": "python",
   "name": "python3"
  },
  "language_info": {
   "codemirror_mode": {
    "name": "ipython",
    "version": 2
   },
   "file_extension": ".py",
   "mimetype": "text/x-python",
   "name": "python",
   "nbconvert_exporter": "python",
   "pygments_lexer": "ipython2",
   "version": "2.7.6"
  }
 },
 "nbformat": 4,
 "nbformat_minor": 5
}
