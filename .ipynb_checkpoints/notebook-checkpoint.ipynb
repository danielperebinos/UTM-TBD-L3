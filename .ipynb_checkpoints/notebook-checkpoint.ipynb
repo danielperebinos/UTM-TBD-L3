{
 "cells": [
  {
   "metadata": {},
   "cell_type": "markdown",
   "source": "# Analysis",
   "id": "cfbb53e548871d7f"
  },
  {
   "cell_type": "code",
   "id": "initial_id",
   "metadata": {
    "collapsed": true,
    "jupyter": {
     "is_executing": true
    },
    "ExecuteTime": {
     "start_time": "2025-05-28T22:48:20.757980Z"
    }
   },
   "source": [
    "from pyspark.sql import SparkSession\n",
    "\n",
    "spark = SparkSession.builder.appName(\"ChurnPrediction\").getOrCreate()"
   ],
   "outputs": [],
   "execution_count": null
  },
  {
   "metadata": {
    "jupyter": {
     "is_executing": true
    }
   },
   "cell_type": "code",
   "source": [
    "# Încărcarea datelor\n",
    "df = spark.read.csv(\"ChurnModelling.csv\", header=True, inferSchema=True)\n",
    "df.show()"
   ],
   "id": "751b4d0bbaaba4d1",
   "outputs": [],
   "execution_count": null
  },
  {
   "metadata": {
    "jupyter": {
     "is_executing": true
    }
   },
   "cell_type": "code",
   "source": "df.printSchema()",
   "id": "e161a2a0335619f7",
   "outputs": [],
   "execution_count": null
  },
  {
   "metadata": {
    "ExecuteTime": {
     "end_time": "2025-05-28T22:38:57.980790Z",
     "start_time": "2025-05-28T22:38:57.980790Z"
    }
   },
   "cell_type": "code",
   "source": [
    "# Eliminarea valorilor duplicate\n",
    "df = df.dropDuplicates()"
   ],
   "id": "e8ef92233c3ed968",
   "outputs": [],
   "execution_count": null
  },
  {
   "metadata": {
    "ExecuteTime": {
     "end_time": "2025-05-28T22:38:57.982789Z",
     "start_time": "2025-05-28T22:38:57.982789Z"
    }
   },
   "cell_type": "code",
   "source": [
    "from pyspark.sql.functions import col, when, isnan, count\n",
    "\n",
    "# Verificarea valorilor lipsă\n",
    "df.select([count(when(col(c).isNull() | isnan(c), c)).alias(c) for c in df.columns]).show()"
   ],
   "id": "e8844f5502bf3391",
   "outputs": [],
   "execution_count": null
  },
  {
   "metadata": {},
   "cell_type": "code",
   "source": [
    "# Count of Exited values\n",
    "df.groupBy(\"Exited\").count().show()"
   ],
   "id": "9acf818f87feea77",
   "outputs": [],
   "execution_count": null
  },
  {
   "metadata": {
    "ExecuteTime": {
     "end_time": "2025-05-28T22:38:57.985789Z",
     "start_time": "2025-05-28T22:38:57.985789Z"
    }
   },
   "cell_type": "code",
   "source": [
    "from pyspark.ml.stat import Correlation\n",
    "from pyspark.ml.feature import VectorAssembler\n",
    "import pandas as pd\n",
    "import seaborn as sns\n",
    "import matplotlib.pyplot as plt\n",
    "\n",
    "# Vectorizarea coloanelor numerice\n",
    "num_cols = [\"CreditScore\", \"Age\", \"Tenure\", \"Balance\", \"NumOfProducts\", \"EstimatedSalary\"]\n",
    "vec_assembler = VectorAssembler(inputCols=num_cols, outputCol=\"features\")\n",
    "df_vec = vec_assembler.transform(df)\n",
    "\n",
    "# Calculul corelației Pearson\n",
    "cor_matrix = Correlation.corr(df_vec, \"features\", method=\"pearson\").head()[0]\n",
    "\n",
    "# Conversia matricei DenseMatrix într-un array numpy\n",
    "corr_array = cor_matrix.toArray()\n",
    "\n",
    "# Crearea unui DataFrame Pandas frumos cu etichete\n",
    "corr_df = pd.DataFrame(corr_array, index=num_cols, columns=num_cols)\n",
    "\n",
    "# Vizualizare\n",
    "plt.figure(figsize=(10, 8))\n",
    "sns.heatmap(corr_df, annot=True, cmap=\"coolwarm\", fmt=\".2f\")\n",
    "plt.title(\"Matricea de corelație (Pearson)\")\n",
    "plt.tight_layout()\n",
    "plt.show()"
   ],
   "id": "368e81d2ecceb042",
   "outputs": [],
   "execution_count": null
  },
  {
   "metadata": {
    "ExecuteTime": {
     "end_time": "2025-05-28T22:38:57.985789Z",
     "start_time": "2025-05-28T22:38:57.985789Z"
    }
   },
   "cell_type": "code",
   "source": [
    "from pyspark.ml.feature import (\n",
    "    StringIndexer, OneHotEncoder, StandardScaler\n",
    ")\n",
    "\n",
    "# Codificare variabile categorice\n",
    "indexer = StringIndexer(inputCols=[\"Geography\", \"Gender\"], outputCols=[\"GeographyIndex\", \"GenderIndex\"])\n",
    "df_indexed = indexer.fit(df).transform(df)\n",
    "\n",
    "encoder = OneHotEncoder(inputCols=[\"GeographyIndex\", \"GenderIndex\"],\n",
    "                        outputCols=[\"GeographyVec\", \"GenderVec\"])\n",
    "df_encoded = encoder.fit(df_indexed).transform(df_indexed)\n",
    "df_encoded.show()"
   ],
   "id": "70186e77a807945d",
   "outputs": [],
   "execution_count": null
  },
  {
   "metadata": {
    "ExecuteTime": {
     "end_time": "2025-05-28T22:38:57.988788Z",
     "start_time": "2025-05-28T22:38:57.987788Z"
    }
   },
   "cell_type": "code",
   "source": [
    "# Feature Engineering\n",
    "df_fe = df_encoded.withColumn(\"BalanceToSalaryRatio\", col(\"Balance\") / (col(\"EstimatedSalary\") + 1))\n",
    "df_fe = df_fe.withColumn(\"IsSenior\", when(col(\"Age\") > 60, 1).otherwise(0))\n",
    "df_fe = df_fe.withColumn(\"EngagementScore\", col(\"NumOfProducts\") + col(\"IsActiveMember\") + (1 - col(\"HasCrCard\")))\n",
    "df_fe = df_fe.withColumn(\"HasZeroBalance\", when(col(\"Balance\") == 0, 1).otherwise(0))"
   ],
   "id": "ea4cb541e611cf69",
   "outputs": [],
   "execution_count": null
  },
  {
   "metadata": {
    "ExecuteTime": {
     "end_time": "2025-05-28T22:38:57.989788Z",
     "start_time": "2025-05-28T22:38:57.989788Z"
    }
   },
   "cell_type": "code",
   "source": [
    "from pyspark.sql.functions import col, when\n",
    "\n",
    "# 1. Sold mediu per produs (evităm împărțirea la zero)\n",
    "df = df.withColumn(\n",
    "    \"AverageBalancePerProduct\",\n",
    "    when(col(\"NumOfProducts\") == 0, 0)\n",
    "    .otherwise(col(\"Balance\") / col(\"NumOfProducts\"))\n",
    ")\n",
    "\n",
    "# 2. Indicator de client loial și activ\n",
    "df = df.withColumn(\n",
    "    \"LoyalActiveCustomer\",\n",
    "    col(\"Tenure\") * col(\"IsActiveMember\")\n",
    ")\n",
    "\n",
    "# Verificăm noile coloane\n",
    "df.select(\"Balance\", \"NumOfProducts\", \"AverageBalancePerProduct\", \"Tenure\", \"IsActiveMember\", \"LoyalActiveCustomer\").show(5)"
   ],
   "id": "2772372babfcb535",
   "outputs": [],
   "execution_count": null
  },
  {
   "metadata": {
    "ExecuteTime": {
     "end_time": "2025-05-28T22:38:57.991791Z",
     "start_time": "2025-05-28T22:38:57.991791Z"
    }
   },
   "cell_type": "code",
   "source": [
    "# Standardizare variabile numerice\n",
    "vec_features = VectorAssembler(\n",
    "    inputCols=[\"CreditScore\", \"BalanceToSalaryRatio\", \"EstimatedSalary\", \"Tenure\", \"EngagementScore\"],\n",
    "    outputCol=\"unscaledFeatures\"\n",
    ")\n",
    "df_unscaled = vec_features.transform(df_fe)\n",
    "\n",
    "scaler = StandardScaler(inputCol=\"unscaledFeatures\", outputCol=\"scaledFeatures\")\n",
    "scaler_model = scaler.fit(df_unscaled)\n",
    "df_scaled = scaler_model.transform(df_unscaled)"
   ],
   "id": "4e671f05f9927a1f",
   "outputs": [],
   "execution_count": null
  },
  {
   "metadata": {},
   "cell_type": "code",
   "source": [
    "# Împărțirea în seturi de antrenare și testare\n",
    "train_data, test_data = df_scaled.randomSplit([0.7, 0.3], seed=42)\n",
    "train_data.show()"
   ],
   "id": "7d309a85856bf80a",
   "outputs": [],
   "execution_count": null
  },
  {
   "metadata": {
    "ExecuteTime": {
     "end_time": "2025-05-28T22:38:57.994787Z",
     "start_time": "2025-05-28T22:38:57.994787Z"
    }
   },
   "cell_type": "code",
   "source": "",
   "id": "5e7cb09878531cc4",
   "outputs": [],
   "execution_count": null
  }
 ],
 "metadata": {
  "kernelspec": {
   "display_name": "Python 3",
   "language": "python",
   "name": "python3"
  },
  "language_info": {
   "codemirror_mode": {
    "name": "ipython",
    "version": 2
   },
   "file_extension": ".py",
   "mimetype": "text/x-python",
   "name": "python",
   "nbconvert_exporter": "python",
   "pygments_lexer": "ipython2",
   "version": "2.7.6"
  }
 },
 "nbformat": 4,
 "nbformat_minor": 5
}
